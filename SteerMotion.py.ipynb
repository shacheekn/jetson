{
 "cells": [
  {
   "cell_type": "code",
   "execution_count": 4,
   "id": "313c9f42",
   "metadata": {},
   "outputs": [
    {
     "name": "stderr",
     "output_type": "stream",
     "text": [
      "WARNING: Carrier board is not from a Jetson Developer Kit.\n",
      "WARNNIG: Jetson.GPIO library has not been verified with this carrier board,\n",
      "WARNING: and in fact is unlikely to work correctly.\n"
     ]
    }
   ],
   "source": [
    "import traitlets\n",
    "from adafruit_servokit import ServoKit\n",
    "\n",
    "import traitlets\n",
    "\n",
    "\n",
    "class Racecar(traitlets.HasTraits):\n",
    "    steering = traitlets.Float()\n",
    "    throttle = traitlets.Float()\n",
    "    \n",
    "    @traitlets.validate('steering')\n",
    "    def _clip_steering(self, proposal):\n",
    "        if proposal['value'] > 1.0:\n",
    "            return 1.0\n",
    "        elif proposal['value'] < -1.0:\n",
    "            return -1.0\n",
    "        else:\n",
    "            return proposal['value']\n",
    "        \n",
    "    @traitlets.validate('throttle')\n",
    "    def _clip_throttle(self, proposal):\n",
    "        if proposal['value'] > 1.0:\n",
    "            return 1.0\n",
    "        elif proposal['value'] < -1.0:\n",
    "            return -1.0\n",
    "        else:\n",
    "            return proposal['value']\n",
    "\n",
    "class NvidiaRacecar(Racecar):\n",
    "    \n",
    "    i2c_address = traitlets.Integer(default_value=0x40)\n",
    "    steering_gain = traitlets.Float(default_value=-0.65)\n",
    "    steering_offset = traitlets.Float(default_value=0)\n",
    "    steering_channel = traitlets.Integer(default_value=0)\n",
    "    throttle_gain = traitlets.Float(default_value=0.8)\n",
    "    throttle_channel = traitlets.Integer(default_value=1)\n",
    "    \n",
    "    def __init__(self, *args, **kwargs):\n",
    "        super(NvidiaRacecar, self).__init__(*args, **kwargs)\n",
    "        self.kit = ServoKit(channels=16, address=self.i2c_address)\n",
    "        self.steering_motor = self.kit.continuous_servo[self.steering_channel]\n",
    "        self.throttle_motor = self.kit.continuous_servo[self.throttle_channel]\n",
    "    \n",
    "    @traitlets.observe('steering')\n",
    "    def _on_steering(self, change):\n",
    "        self.steering_motor.throttle = change['new'] * self.steering_gain + self.steering_offset\n",
    "    \n",
    "    @traitlets.observe('throttle')\n",
    "    def _on_throttle(self, change):\n",
    "        self.throttle_motor.throttle = change['new'] * self.throttle_gain"
   ]
  },
  {
   "cell_type": "code",
   "execution_count": 20,
   "id": "fa33206e",
   "metadata": {},
   "outputs": [],
   "source": [
    "car = NvidiaRacecar()"
   ]
  },
  {
   "cell_type": "code",
   "execution_count": 25,
   "id": "6b38a701",
   "metadata": {},
   "outputs": [],
   "source": [
    "car.steering = 0\n",
    "car.steering_gain = 1"
   ]
  },
  {
   "cell_type": "code",
   "execution_count": 26,
   "id": "8ae061cb",
   "metadata": {},
   "outputs": [
    {
     "name": "stdout",
     "output_type": "stream",
     "text": [
      "1.0\n",
      "0.0\n"
     ]
    }
   ],
   "source": [
    "print(car.steering_gain)\n",
    "print(car.steering_offset)"
   ]
  },
  {
   "cell_type": "code",
   "execution_count": 34,
   "id": "85d1185c",
   "metadata": {},
   "outputs": [],
   "source": [
    "car.steering = 0\n",
    "car.throttle = 0"
   ]
  },
  {
   "cell_type": "code",
   "execution_count": 33,
   "id": "95e8d765",
   "metadata": {},
   "outputs": [],
   "source": [
    "car.throttle = 0"
   ]
  },
  {
   "cell_type": "code",
   "execution_count": null,
   "id": "b01b2d79",
   "metadata": {},
   "outputs": [],
   "source": []
  },
  {
   "cell_type": "raw",
   "id": "89e568ee",
   "metadata": {},
   "source": []
  },
  {
   "cell_type": "raw",
   "id": "8d1e21cd",
   "metadata": {},
   "source": []
  },
  {
   "cell_type": "code",
   "execution_count": 12,
   "id": "ecba9b30",
   "metadata": {},
   "outputs": [],
   "source": []
  },
  {
   "cell_type": "code",
   "execution_count": null,
   "id": "35c5f732",
   "metadata": {},
   "outputs": [],
   "source": []
  }
 ],
 "metadata": {
  "kernelspec": {
   "display_name": "Python 3",
   "language": "python",
   "name": "python3"
  },
  "language_info": {
   "codemirror_mode": {
    "name": "ipython",
    "version": 3
   },
   "file_extension": ".py",
   "mimetype": "text/x-python",
   "name": "python",
   "nbconvert_exporter": "python",
   "pygments_lexer": "ipython3",
   "version": "3.6.9"
  }
 },
 "nbformat": 4,
 "nbformat_minor": 5
}
